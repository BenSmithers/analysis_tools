{
 "cells": [
  {
   "cell_type": "markdown",
   "id": "04c656c2-08ed-4a8b-b435-fe65e34b247d",
   "metadata": {},
   "source": [
    "# VME Charge Particle Tutorial"
   ]
  },
  {
   "cell_type": "markdown",
   "id": "9e312152-c78e-4d0f-ae3c-202d9f7ecaec",
   "metadata": {},
   "source": [
    "This is a simple tutorial based on some code I put together in the control room during the WCTE run. That code was originally inspired by Arturo’s C++ version. Hopefully, this version gives you a good starting point to create your own.\n",
    "\n",
    "It’s definitely not a full analysis code! Just something to help you get familiar with the VME data. I hope you have fun playing around with it.\n",
    "\n",
    "If you end up enjoying it, the WCTE beam group has lots of things to do, and we’d be love to have your help.\n",
    " \n",
    "Bruno Ferrazzi, Aug/2025."
   ]
  },
  {
   "cell_type": "markdown",
   "id": "f14eee90-370e-42a1-a1d7-d77c23f23e53",
   "metadata": {},
   "source": [
    "# RAW DATA"
   ]
  },
  {
   "cell_type": "markdown",
   "id": "e726953a-149a-405d-a7d9-6a3f01ce9a7c",
   "metadata": {},
   "source": [
    "First things first, load the libraries:"
   ]
  },
  {
   "cell_type": "code",
   "execution_count": null,
   "id": "ce440e86-fb87-41c6-a577-0913d00ab72a",
   "metadata": {},
   "outputs": [],
   "source": [
    "import uproot\n",
    "import time\n",
    "import numpy as np\n",
    "import matplotlib.pyplot as plt\n",
    "from matplotlib.colors import LogNorm"
   ]
  },
  {
   "cell_type": "markdown",
   "id": "d971f7a7-214f-4e89-ace3-b818bf5139ae",
   "metadata": {},
   "source": [
    "Add the full path to your file:"
   ]
  },
  {
   "cell_type": "code",
   "execution_count": null,
   "id": "95fb40c6-dfcd-4fe3-b24b-42ad0a1cf5d9",
   "metadata": {},
   "outputs": [],
   "source": [
    "file_path    = \"/home/bferrazzi/Desktop/notebooks/data/WCTE_offline_R1308S0_VME1406.root\"\n",
    "tree_name    = \"WCTEReadoutWindows\"        # This will not change"
   ]
  },
  {
   "cell_type": "markdown",
   "id": "069ab006-9612-407e-bc62-bf2cb6cfac23",
   "metadata": {},
   "source": [
    "Below is a simple function to plot the TDC and QDC straight from the file for a given a channel id"
   ]
  },
  {
   "cell_type": "code",
   "execution_count": null,
   "id": "6c9919ff-e681-488e-9b33-b2a8d48a684c",
   "metadata": {},
   "outputs": [],
   "source": [
    "def plot_time_charge_distributions(\n",
    "    root_path: str,\n",
    "    channel_id: int,\n",
    "    tree_name: str = \"WCTEReadoutWindows\",\n",
    "    bins: int = 500  # Change the bin number if needed\n",
    "):\n",
    "\n",
    "    # open file with uproot and grab arrays\n",
    "    with uproot.open(root_path) as f:\n",
    "        tree = f[tree_name]\n",
    "        arrs = tree.arrays(\n",
    "            [\"beamline_pmt_tdc_times\",\n",
    "             \"beamline_pmt_tdc_ids\",\n",
    "             \"beamline_pmt_qdc_charges\",\n",
    "             \"beamline_pmt_qdc_ids\"],\n",
    "            library=\"np\"\n",
    "        )\n",
    "\n",
    "    # make sure they are flat numpy arrays\n",
    "    tdc_times = np.concatenate(arrs[\"beamline_pmt_tdc_times\"])\n",
    "    tdc_ids   = np.concatenate(arrs[\"beamline_pmt_tdc_ids\"])\n",
    "    qdc_chg   = np.concatenate(arrs[\"beamline_pmt_qdc_charges\"])\n",
    "    qdc_ids   = np.concatenate(arrs[\"beamline_pmt_qdc_ids\"])\n",
    "\n",
    "    # select only entries matching our channel id\n",
    "    times_for_id   = tdc_times[tdc_ids == channel_id]\n",
    "    charges_for_id = qdc_chg[  qdc_ids == channel_id]\n",
    "\n",
    "    # plot TDC times\n",
    "    plt.figure()\n",
    "    plt.hist(times_for_id, bins=bins)\n",
    "    plt.xlabel(\"TDC time (ns)\")\n",
    "    plt.ylabel(\"Entries\")\n",
    "    plt.yscale(\"log\")\n",
    "    plt.title(f\"TDC Time Distribution — Channel {channel_id}\")\n",
    "    plt.show()\n",
    "\n",
    "    # plot QDC charges\n",
    "    plt.figure()\n",
    "    plt.hist(charges_for_id, bins=bins, color='red')\n",
    "    plt.yscale(\"log\")\n",
    "    plt.xlabel(\"QDC charge (arb. units)\")\n",
    "    plt.ylabel(\"Entries\")\n",
    "    plt.title(f\"QDC Charge Distribution — Channel {channel_id}\")\n",
    "    plt.show()"
   ]
  },
  {
   "cell_type": "markdown",
   "id": "2629511b-e3f7-4941-bd34-818c0476770f",
   "metadata": {},
   "source": [
    "Exercise 1: Getting familiar with TDC and QDC shape.\n",
    "\n",
    "The channel map can be found here: https://wcte.hyperk.ca/operations/shift-instructions-and-manuals/manuals/vme-data-format\n",
    "\n",
    "You need to able to answer those questions:\n",
    "\n",
    "i) What is the second peak (~200) on T0 and T1 TDC channels?\n",
    "\n",
    "ii) Why T0 and T1 don't have QDC pedestal?\n",
    "\n",
    "iii) Can you identify p.e. structure on ACTs QDC?\n",
    "\n",
    "iV) Why the TDC peaks in general looks so wide is it bad timing resolution?\n",
    "\n",
    "V) Why the TOF-detector QDC is so different?\n",
    "\n",
    "Vi) What value should be the QDC cut on T4? (You will need this value to proceed)"
   ]
  },
  {
   "cell_type": "code",
   "execution_count": null,
   "id": "38efc792-ad33-4c52-9572-bc6599aec508",
   "metadata": {},
   "outputs": [],
   "source": [
    "plot_time_charge_distributions(file_path, channel_id=12) # Change the channel id"
   ]
  },
  {
   "cell_type": "markdown",
   "id": "77e8c0d6-35c7-45fa-8e39-fea07aa1ab0f",
   "metadata": {},
   "source": [
    "# DETECTION TECHNIQUES"
   ]
  },
  {
   "cell_type": "markdown",
   "id": "94b34ad4-e484-439d-bd57-c7599ac880c3",
   "metadata": {},
   "source": [
    "Make some definitions here:"
   ]
  },
  {
   "cell_type": "code",
   "execution_count": null,
   "id": "f7038d39-9056-4f06-b94b-b785bf40abce",
   "metadata": {},
   "outputs": [],
   "source": [
    "reference_ids = (31, 46)          # (TDC ref for IDs <31, ref1 for IDs >31)\n",
    "t0_group     = [0, 1, 2, 3]       # must all be present\n",
    "t1_group     = [4, 5, 6, 7]       # must all be present\n",
    "t4_group     = [42, 43]           # must all be present\n",
    "t4_qdc_cut   = 000                # Only hits above this value\n",
    "act_eveto_group = [12, 13, 14, 15, 16, 17]   # ACT-eveto channels\n",
    "act_tagger_group = [18, 19, 20, 21, 22, 23]\n",
    "hc_group = [9, 10]\n",
    "hc_charge_cut = 150 # Only hits below this value"
   ]
  },
  {
   "cell_type": "markdown",
   "id": "42a0d031-f949-45f6-bf8c-6db3207ad174",
   "metadata": {},
   "source": [
    "Let's open the file and get the branches"
   ]
  },
  {
   "cell_type": "code",
   "execution_count": null,
   "id": "32b9cbc9-30aa-4766-aed1-9f59da1b4aef",
   "metadata": {},
   "outputs": [],
   "source": [
    "# Open the file and grab the tree\n",
    "f    = uproot.open(file_path)\n",
    "tree = f[tree_name]\n",
    "\n",
    "# Load all four branches into NumPy arrays\n",
    "branches = [\n",
    "    \"beamline_pmt_tdc_times\",\n",
    "    \"beamline_pmt_tdc_ids\",\n",
    "    \"beamline_pmt_qdc_charges\",\n",
    "    \"beamline_pmt_qdc_ids\",\n",
    "]\n",
    "data = tree.arrays(branches, library=\"np\")"
   ]
  },
  {
   "cell_type": "markdown",
   "id": "474aaae4-d564-4163-aa8e-b26a4e52eb9b",
   "metadata": {},
   "source": [
    "Let's make our first TOF-measurement using T0 and T1"
   ]
  },
  {
   "cell_type": "code",
   "execution_count": null,
   "id": "623a21b3-4cdb-4c4a-92af-813131dc0e6e",
   "metadata": {},
   "outputs": [],
   "source": [
    "# ——— prepare lists ———\n",
    "t0_avgs  = []\n",
    "t1_avgs  = []\n",
    "tof_vals = []\n",
    "\n",
    "for evt_idx in range(len(data[branches[0]])):\n",
    "    tdc_times = data[\"beamline_pmt_tdc_times\"][evt_idx]\n",
    "    tdc_ids   = data[\"beamline_pmt_tdc_ids\"][evt_idx]\n",
    "\n",
    "    # reference-time subtraction & first-hit only\n",
    "    mask0 = (tdc_ids == reference_ids[0])\n",
    "    mask1 = (tdc_ids == reference_ids[1])\n",
    "    if not mask0.any() or not mask1.any():\n",
    "        continue\n",
    "    ref0 = tdc_times[mask0][0]\n",
    "    ref1 = tdc_times[mask1][0]\n",
    "\n",
    "    corrected = {}\n",
    "    for ch, t in zip(tdc_ids, tdc_times):\n",
    "        if ch in reference_ids or ch in corrected:\n",
    "            continue\n",
    "        corrected[ch] = t - (ref0 if ch < reference_ids[0] else ref1)\n",
    "    \n",
    "    # require all channels on T0/T1 before computing averages\n",
    "    if not all(ch in corrected for ch in t0_group+t1_group):\n",
    "        continue\n",
    "\n",
    "    # compute the averages\n",
    "    t0 = np.mean([corrected[ch] for ch in t0_group])\n",
    "    t1 = np.mean([corrected[ch] for ch in t1_group])\n",
    "    t0_avgs.append(t0)\n",
    "    t1_avgs.append(t1)\n",
    "    tof_vals.append(t1 - t0)\n",
    "\n",
    "# ——— plot histograms ———\n",
    "plt.figure()\n",
    "plt.hist(t0_avgs, bins=50)\n",
    "plt.xlabel(\"⟨T0⟩ (ns)\")\n",
    "plt.ylabel(\"Counts\")\n",
    "plt.title(\"T0 average time distribution\")\n",
    "plt.show()\n",
    "\n",
    "plt.figure()\n",
    "plt.hist(t1_avgs, bins=50)\n",
    "plt.xlabel(\"⟨T1⟩ (ns)\")\n",
    "plt.ylabel(\"Counts\")\n",
    "plt.title(\"T1 average time distribution\")\n",
    "plt.show()\n",
    "\n",
    "plt.figure()\n",
    "plt.hist(tof_vals, bins=1000)\n",
    "plt.xlabel(\"T1–T0 (ns)\")\n",
    "plt.ylabel(\"Counts\")\n",
    "plt.xlim(10,20)\n",
    "# plt.yscale(\"log\")\n",
    "plt.title(\"TOF (T0 minus T1) distribution\")\n",
    "plt.show()\n"
   ]
  },
  {
   "cell_type": "markdown",
   "id": "22457995-3061-47b0-a84e-2f780f37bdce",
   "metadata": {},
   "source": [
    "Exercise 2: TOF\n",
    "\n",
    "i) Each peak represents a particle, which ones?\n",
    "\n",
    "ii) Which particles is the fastest ?\n",
    "\n",
    "iii) Given the fastest particle and the T0 to T1 distance, what is the predicted TOF time?\n",
    "\n",
    "iii-i)Distances can be found here: https://wcte.hyperk.ca/operations/shift-instructions-and-manuals/manuals/beam-alignment/2025-position-measurements/measured-positions\n",
    "\n",
    "iii-i) You will need the particle mass, google it."
   ]
  },
  {
   "cell_type": "markdown",
   "id": "027a5d7c-6441-48bb-81d7-d1bf0f9920d2",
   "metadata": {},
   "source": [
    "Run the cell below. It will ask for the particle mass, momentum and detector distance and it will give you the TOF."
   ]
  },
  {
   "cell_type": "code",
   "execution_count": null,
   "id": "0afe7f6c-e8fb-43a2-b0a2-3c29928e05fe",
   "metadata": {},
   "outputs": [],
   "source": [
    "# Constants\n",
    "c = 299_792_458  # speed of light in m/s\n",
    "\n",
    "# Some inputs\n",
    "mass_mev = float(input(\"Enter particle mass [MeV/c²]: \"))\n",
    "momentum_mev = float(input(\"Enter particle momentum [MeV/c]: \"))\n",
    "distance_m = float(input(\"Enter distance [m]: \"))\n",
    "\n",
    "# Compute total energy and beta\n",
    "mass = mass_mev\n",
    "p = momentum_mev\n",
    "E = np.sqrt(p**2 + mass**2)\n",
    "beta = p / E  # v/c\n",
    "\n",
    "# Time-of-flight calculation\n",
    "tof_seconds = distance_m / (beta * c)\n",
    "tof_ns = tof_seconds * 1e9\n",
    "\n",
    "print(f\"\\nExpected TOF: {tof_ns:.2f} ns\")"
   ]
  },
  {
   "cell_type": "markdown",
   "id": "2118372a-38fd-4f5d-bf2a-3150bf1cadac",
   "metadata": {},
   "source": [
    "iV) Does the peak match the prediction? If not, why?\n",
    "\n",
    "V) If you want to measure the momentum what would be your plan?"
   ]
  },
  {
   "cell_type": "markdown",
   "id": "af470f8b-dbfa-4997-beca-fbb005371313",
   "metadata": {},
   "source": [
    "Let's plot the sum of ACTs used for electron veto"
   ]
  },
  {
   "cell_type": "code",
   "execution_count": null,
   "id": "f4da99de-8b0c-415f-b4d8-1451dc390076",
   "metadata": {},
   "outputs": [],
   "source": [
    "act_eveto_sums = []\n",
    "n_events   = len(data[branches[0]])\n",
    "\n",
    "for evt_idx in range(n_events):\n",
    "    qdc_charges = data[\"beamline_pmt_qdc_charges\"][evt_idx]\n",
    "    qdc_ids     = data[\"beamline_pmt_qdc_ids\"][evt_idx]\n",
    "\n",
    "    qdc_dict = {}\n",
    "    for ch, q in zip(qdc_ids, qdc_charges):\n",
    "        if ch not in qdc_dict:\n",
    "            qdc_dict[ch] = q\n",
    "\n",
    "    # sum over your all eveto group (missing channels contribute 0)\n",
    "    s = sum(qdc_dict.get(ch, 0) for ch in act_eveto_group)\n",
    "    act_eveto_sums.append(s)\n",
    "\n",
    "# ——— PLOT THE HISTOGRAM ———\n",
    "plt.figure()\n",
    "plt.hist(act_eveto_sums, bins=100)\n",
    "plt.xlabel(\"ACT-eveto total QDC charge\")\n",
    "plt.ylabel(\"Counts\")\n",
    "plt.yscale(\"log\")\n",
    "plt.title(\"Histogram of summed ACT-eveto charges\")\n",
    "plt.show()"
   ]
  },
  {
   "cell_type": "markdown",
   "id": "22abf122-b308-407b-85c4-4ae4014fff95",
   "metadata": {},
   "source": [
    "Exercise 3: E-veto\n",
    "\n",
    "i) Why we sum the charges of different act boxes?\n",
    "\n",
    "ii) How many peaks can you identify and which particles they represent?\n",
    "\n",
    "iii) Where should be the electron cut position? (You will need this value to continue)"
   ]
  },
  {
   "cell_type": "code",
   "execution_count": null,
   "id": "3144a92f-b163-4faf-a952-ac56f949d184",
   "metadata": {},
   "outputs": [],
   "source": [
    "act_eveto_cut = 0000   # ignore events if sum is above this value"
   ]
  },
  {
   "cell_type": "markdown",
   "id": "29da4802-fda0-40d7-a8d6-c6840f504ccc",
   "metadata": {},
   "source": [
    "iV) What are the index of the ACTs 0,1,2 for this run?\n",
    "\n",
    "V) What are the momentum therehold for light production in those ACTs? How this impacts the veto?\n",
    "\n",
    "V-i) Run the cell below to calculate the threshold given the ACT index and particle mass\n",
    "\n",
    "VME log:https://docs.google.com/spreadsheets/d/1_gLpa4sqnzdQ0KSNIQISDQMgOH_hka0FYeIbLpOANIQ/edit?gid=1045855780#gid=1045855780"
   ]
  },
  {
   "cell_type": "code",
   "execution_count": null,
   "id": "14d9135f-a11d-4125-9b65-0a8b029e6bde",
   "metadata": {},
   "outputs": [],
   "source": [
    "n = float(input(\"Enter index of refraction (n > 1): \"))\n",
    "mass_mev = float(input(\"Enter particle mass [MeV/c²]: \"))\n",
    "\n",
    "if n <= 1:\n",
    "    print(\"No Cherenkov radiation: index must be > 1\")\n",
    "else:\n",
    "    # Compute beta threshold\n",
    "    beta_thr = 1 / n\n",
    "    gamma_thr = 1 / np.sqrt(1 - beta_thr**2)\n",
    "\n",
    "    # Compute momentum threshold\n",
    "    p_thr = mass_mev * beta_thr * gamma_thr  # in MeV/c\n",
    "\n",
    "    print(f\"\\nCherenkov momentum threshold: {p_thr:.2f} MeV/c\")"
   ]
  },
  {
   "cell_type": "markdown",
   "id": "b7489266-82cc-40d2-8ba2-19260026304e",
   "metadata": {},
   "source": [
    "Let's plot the ACTs used for pi/mu separation"
   ]
  },
  {
   "cell_type": "code",
   "execution_count": null,
   "id": "598d8d07-e3e6-432c-9646-dfe95721e1c9",
   "metadata": {},
   "outputs": [],
   "source": [
    "act_tagger_sums = []\n",
    "n_events   = len(data[branches[0]])\n",
    "\n",
    "for evt_idx in range(n_events):\n",
    "    qdc_charges = data[\"beamline_pmt_qdc_charges\"][evt_idx]\n",
    "    qdc_ids     = data[\"beamline_pmt_qdc_ids\"][evt_idx]\n",
    "\n",
    "    # collect first-hit charges into a dict (as before)\n",
    "    qdc_dict = {}\n",
    "    for ch, q in zip(qdc_ids, qdc_charges):\n",
    "        if ch not in qdc_dict:\n",
    "            qdc_dict[ch] = q\n",
    "\n",
    "    # sum over your eveto group (missing channels contribute 0)\n",
    "    s = sum(qdc_dict.get(ch, 0) for ch in act_tagger_group)\n",
    "    act_tagger_sums.append(s)\n",
    "\n",
    "# ——— PLOT THE HISTOGRAM ———\n",
    "plt.figure()\n",
    "plt.hist(act_tagger_sums, bins=100)\n",
    "plt.xlabel(\"ACT-tagger total QDC charge\")\n",
    "plt.ylabel(\"Counts\")\n",
    "plt.yscale(\"log\")\n",
    "plt.title(\"Histogram of summed ACT-tagger charges\")\n",
    "plt.show()"
   ]
  },
  {
   "cell_type": "markdown",
   "id": "13a0f6bd-7362-4397-895f-fc96d6f1ae32",
   "metadata": {},
   "source": [
    "Exercise 4: Pi/Mu\n",
    "\n",
    "i) How many peaks can you identify and which particles they represent?\n",
    "\n",
    "ii) There seems to be a charge saturation why?\n",
    "\n",
    "iii) If you want to separate pions and muons where would cut?\n",
    "\n",
    "iV) What are the index for ACTs 3,4,5 for this run?\n",
    "\n",
    "V) Go back to the cell with the threshold calculation and check what signals it should be expected here?"
   ]
  },
  {
   "cell_type": "markdown",
   "id": "34c6632f-b4db-4054-bfc0-ffd6f220cbb3",
   "metadata": {},
   "source": [
    "# DATA CUT"
   ]
  },
  {
   "cell_type": "markdown",
   "id": "6839ca3f-4c67-4f2f-a347-28dba9aefdea",
   "metadata": {},
   "source": [
    "This is simple event-by-event cut system. It is not the most efficient way but it is easier to understand and it is closer to the C++ approach. Look for vectorization, slicing and chunking in python to see how this can be improved."
   ]
  },
  {
   "cell_type": "code",
   "execution_count": null,
   "id": "1a58e47b-98ac-4899-8e8a-de8655165012",
   "metadata": {},
   "outputs": [],
   "source": [
    "# This list gives you the ROOT entries that survived the cut\n",
    "selected_events = []\n",
    "\n",
    "# timer\n",
    "start_time = time.time()\n",
    "\n",
    "# Loop over ROOT events\n",
    "for evt_idx in range(len(data[branches[0]])):\n",
    "    tdc_times   = data[\"beamline_pmt_tdc_times\"][evt_idx]\n",
    "    tdc_ids     = data[\"beamline_pmt_tdc_ids\"][evt_idx]\n",
    "    qdc_charges = data[\"beamline_pmt_qdc_charges\"][evt_idx]\n",
    "    qdc_ids     = data[\"beamline_pmt_qdc_ids\"][evt_idx]\n",
    "\n",
    "    # Correct the TDC time and only keep first hits\n",
    "    mask0 = (tdc_ids == reference_ids[0])\n",
    "    mask1 = (tdc_ids == reference_ids[1])\n",
    "    if not mask0.any() or not mask1.any():\n",
    "        continue\n",
    "    ref0_time = tdc_times[mask0][0]\n",
    "    ref1_time = tdc_times[mask1][0]\n",
    "\n",
    "    corrected = {}\n",
    "    for ch, t in zip(tdc_ids, tdc_times):\n",
    "        if ch in reference_ids or ch in corrected:\n",
    "            continue\n",
    "        corrected[ch] = t - (ref0_time if ch < reference_ids[0] else ref1_time)\n",
    "\n",
    "    qdc_dict = {}\n",
    "    for ch, q in zip(qdc_ids, qdc_charges):\n",
    "        if ch not in qdc_dict:\n",
    "            qdc_dict[ch] = q\n",
    "\n",
    "    #------Electron veto CUT------#\n",
    "    eveto_sum = sum(qdc_dict.get(ch, 0) for ch in act_eveto_group)\n",
    "    if eveto_sum > act_eveto_cut:\n",
    "        continue  # ignore events\n",
    "\n",
    "    #------T4 CUT------#\n",
    "    if not all(ch in qdc_dict for ch in t4_group): # Requires all channels\n",
    "        continue\n",
    "    if not all(qdc_dict[ch] > t4_qdc_cut for ch in t4_group): # needs to be above\n",
    "        continue\n",
    "        \n",
    "    #------HC CUT------#\n",
    "    if any(qdc_dict.get(ch, 0) >= hc_charge_cut for ch in hc_group):\n",
    "        continue # if either HC channel fired with charge ≥ threshold, skip event\n",
    "    \n",
    "    #------T0 / T1 CUT------#\n",
    "    if all(ch in corrected for ch in t0_group) and all(ch in corrected for ch in t1_group):\n",
    "        selected_events.append(evt_idx)\n",
    "\n",
    "# timer\n",
    "end_time = time.time()\n",
    "elapsed = end_time - start_time\n",
    "\n",
    "n_events = len(data[branches[0]])\n",
    "print(f\"Processed {n_events} events in {elapsed:.2f} s \"\n",
    "      f\"({elapsed/n_events*1e3:.3f} ms/event).\")\n",
    "print(f\"Events passing first selection: {len(selected_events)}\")\n",
    "print(\"First 10 passing event indices:\", selected_events[:10])"
   ]
  },
  {
   "cell_type": "markdown",
   "id": "adc252dd-181a-41ce-8d76-1942b321b5b5",
   "metadata": {},
   "source": [
    "Exercise 5: T4 Cut\n",
    "\n",
    "i) With T4 cut enabled on the code, make the plots below."
   ]
  },
  {
   "cell_type": "markdown",
   "id": "285c1a4f-9c56-408f-aac8-2ddeb49b6686",
   "metadata": {},
   "source": [
    "Let's plot the TOF again:"
   ]
  },
  {
   "cell_type": "code",
   "execution_count": null,
   "id": "336ec806-1322-47e5-9fd3-6879c8414e74",
   "metadata": {},
   "outputs": [],
   "source": [
    "# Prepare output lists\n",
    "t0_avgs, t1_avgs, tof_vals = [], [], []\n",
    "\n",
    "for evt_idx in selected_events:\n",
    "    tdc_times   = data[\"beamline_pmt_tdc_times\"][evt_idx]\n",
    "    tdc_ids     = data[\"beamline_pmt_tdc_ids\"][evt_idx]\n",
    "\n",
    "    # get reference times again\n",
    "    mask0 = (tdc_ids == reference_ids[0])\n",
    "    mask1 = (tdc_ids == reference_ids[1])\n",
    "    ref0 = tdc_times[mask0][0]\n",
    "    ref1 = tdc_times[mask1][0]\n",
    "\n",
    "    # apply our “subtract and first‐hit” correction\n",
    "    corrected = {}\n",
    "    for ch, t in zip(tdc_ids, tdc_times):\n",
    "        if ch in reference_ids or ch in corrected:\n",
    "            continue\n",
    "        corrected[ch] = t - (ref0 if ch < reference_ids[0] else ref1)\n",
    "\n",
    "    # now compute T0/T1 averages and TOF\n",
    "    t0 = np.mean([corrected[ch] for ch in t0_group])\n",
    "    t1 = np.mean([corrected[ch] for ch in t1_group])\n",
    "    t0_avgs.append(t0)\n",
    "    t1_avgs.append(t1)\n",
    "    tof_vals.append(t1 - t0)\n",
    "\n",
    "plt.figure()\n",
    "plt.hist(tof_vals, bins=500)\n",
    "plt.xlabel(\"T1–T0 (ns)\")\n",
    "plt.ylabel(\"Counts\")\n",
    "plt.xlim(10,20)\n",
    "plt.title(\"TOF (T1 minus T0) distribution\")\n",
    "plt.show()\n"
   ]
  },
  {
   "cell_type": "markdown",
   "id": "6f798ec9-efe5-4a31-8292-73eda92a9fd9",
   "metadata": {},
   "source": [
    "ii) What changed compared to TOF plot that we did before?\n",
    "\n",
    "iii) Which particles survived? Is the cut 100% efficient?"
   ]
  },
  {
   "cell_type": "markdown",
   "id": "d8a0cba2-d59f-4d89-bf6e-98171f56aa5b",
   "metadata": {},
   "source": [
    "Let's plot the act charge versus TOF:"
   ]
  },
  {
   "cell_type": "code",
   "execution_count": null,
   "id": "a5043bc2-8d05-4542-a08b-439f8ed5cad4",
   "metadata": {},
   "outputs": [],
   "source": [
    "tagger_sel = []\n",
    "\n",
    "for evt_idx in selected_events:\n",
    "    qdc_ids     = data[\"beamline_pmt_qdc_ids\"][evt_idx]\n",
    "    qdc_charges = data[\"beamline_pmt_qdc_charges\"][evt_idx]\n",
    "\n",
    "    # build first‐hit map\n",
    "    qdc_dict = {}\n",
    "    for ch, q in zip(qdc_ids, qdc_charges):\n",
    "        if ch not in qdc_dict:\n",
    "            qdc_dict[ch] = q\n",
    "\n",
    "    # sum charges on the tagger group\n",
    "    tagger_sel.append(sum(qdc_dict.get(ch, 0) for ch in act_tagger_group))\n",
    "\n",
    "# ——— Plot 2D histogram of TOF vs. tagger charge ———\n",
    "plt.figure(figsize=(8,6))\n",
    "hb = plt.hist2d(tof_vals, tagger_sel,norm=LogNorm(), bins=(200,200))\n",
    "plt.colorbar(hb[3], label=\"Counts\")\n",
    "plt.xlabel(\"T1 – T0 (ns)\")\n",
    "plt.ylabel(\"ACT‐tagger total QDC charge\")\n",
    "plt.title(\"2D Histogram: Tagger Charge vs. TOF\")\n",
    "plt.xlim(10,20)\n",
    "plt.tight_layout()\n",
    "plt.show()\n"
   ]
  },
  {
   "cell_type": "markdown",
   "id": "f00a4abe-0a87-41cd-a375-d2461c2a5a52",
   "metadata": {},
   "source": [
    "iV) Which particle can you identify?\n",
    "\n",
    "V) Go back to the cutting code and comment it out the T4 cut. Run the plots again, what changed?\n",
    "\n",
    "V-i) This was a big problem in 2023. Alie named them \"weird electrons\", can you explain why she chose this name? \n",
    "\n",
    "V-ii) What solved the \"weird electrons\" problems? why?\n",
    "\n",
    "Vi) Can you estimate you cut efficiency by event couting on the cutting code?\n",
    "\n",
    "Viii) Implement a cut on the Muon Tagger\n",
    "\n",
    "iX) Implement a cut on the TOF-detector"
   ]
  },
  {
   "cell_type": "markdown",
   "id": "f0cf45dd-78fe-4298-9c66-783f3369fb2b",
   "metadata": {},
   "source": [
    "# THE END, Thanks"
   ]
  }
 ],
 "metadata": {
  "kernelspec": {
   "display_name": "Python 3 (ipykernel)",
   "language": "python",
   "name": "python3"
  },
  "language_info": {
   "codemirror_mode": {
    "name": "ipython",
    "version": 3
   },
   "file_extension": ".py",
   "mimetype": "text/x-python",
   "name": "python",
   "nbconvert_exporter": "python",
   "pygments_lexer": "ipython3",
   "version": "3.12.3"
  }
 },
 "nbformat": 4,
 "nbformat_minor": 5
}
